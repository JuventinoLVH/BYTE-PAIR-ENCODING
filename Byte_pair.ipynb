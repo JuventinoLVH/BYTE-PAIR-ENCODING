{
 "cells": [
  {
   "cell_type": "markdown",
   "metadata": {},
   "source": [
    "# BYTE-PAIR-ENCODING del Quijote\n",
    "--- \n",
    "Este es una forma simple de compresión de datos en la que el par más común de bytes consecutivos de datos se reemplaza con un byte que no ocurre dentro de esos datos. Aquí, el objetivo no es la compresión de datos, sino la codificación de texto en un idioma dado como una secuencia de 'tokens', utilizando un vocabulario fijo de diferentes tokens. La mayoría de las palabras se codificarán como un solo token, mientras que las palabras raras se codificarán como una secuencia de unos pocos tokens, donde estos tokens representan partes de palabras significativas.\n",
    "\n",
    "### Equipo cangrejo      \n",
    "* Montaño Preciado Alondra Karolina\n",
    "* Velasquez Hidalgo Luis Juventino\n",
    "* Navarro Lopez Malcom Hiram\n",
    "* Faz Leal Juan Carlos\n",
    "\n",
    "\n",
    "### Fuentes\n",
    "- Medium con la informacion: https://towardsdatascience.com/byte-pair-encoding-subword-based-tokenization-algorithm-77828a70bee0\n",
    "\n",
    "- Codigo en el cual nos estamos inspirando: https://leimao.github.io/blog/Byte-Pair-Encoding/"
   ]
  },
  {
   "cell_type": "code",
   "execution_count": 65,
   "metadata": {},
   "outputs": [],
   "source": [
    "import re, collections"
   ]
  },
  {
   "cell_type": "code",
   "execution_count": null,
   "metadata": {},
   "outputs": [],
   "source": []
  },
  {
   "cell_type": "markdown",
   "metadata": {},
   "source": [
    "### get_vocab()\n",
    "___\n",
    "La función get_vocab lee un archivo de texto (especificado por filename) y devuelve un diccionario de frecuencias de palabras (vocabulario).\n",
    "Cada línea en el archivo de texto se divide en palabras y cada palabra se agrega al vocabulario con un contador de frecuencia inicial de 1.\n",
    "Si la palabra ya existe en el vocabulario, su contador se incrementa en 1.\n",
    "\n",
    "- filename: Es un argumento de entrada para la función, es el nombre (o la ruta) del archivo de texto que se va a leer para crear el vocabulario.\n",
    "- return: Es una instrucción que se utiliza para devolver un valor desde la funcion, en este caso, la función get_vocab devuelve el diccionario de frecuencias\n",
    "  de palabras (vocabulario) creado en el cuerpo de la función, que se almacena en la variable vocab.\n"
   ]
  },
  {
   "cell_type": "code",
   "execution_count": 66,
   "metadata": {},
   "outputs": [],
   "source": [
    "def get_vocab(filename):\n",
    "    vocab = collections.defaultdict(int)\n",
    "    with open(filename, 'r', encoding='utf-8') as fhand:\n",
    "        for line in fhand:\n",
    "            words = line.strip().split()\n",
    "            for word in words:\n",
    "                vocab[' '.join(list(word)) + ' </w>'] += 1\n",
    "    return vocab"
   ]
  },
  {
   "cell_type": "markdown",
   "metadata": {},
   "source": [
    "### get_stats()\n",
    "___\n",
    "La función get_stats toma un vocabulario, el cual tiene la forma de un diccionario, y retorna otro diccionario con los pares de simbolos de nuestro vocabulario y la frecuencia con la que estos pares aparecen. Si el par ya existe en el diccionario, su contador se incrementa en 1."
   ]
  },
  {
   "cell_type": "code",
   "execution_count": 67,
   "metadata": {},
   "outputs": [],
   "source": [
    "def get_stats(vocab):\n",
    "    pairs = collections.defaultdict(int)\n",
    "    for word, freq in vocab.items():\n",
    "        symbols = word.split()\n",
    "        for i in range(len(symbols)-1):\n",
    "            pairs[symbols[i],symbols[i+1]] += freq\n",
    "    return pairs"
   ]
  },
  {
   "cell_type": "markdown",
   "metadata": {},
   "source": [
    "### merge_vocab()\n",
    "___\n",
    "Funcion que junta los dos tokens que mas aparecen consecutivamente en el vocabulatio.\n",
    "El bigrama es la union de los dos tokens que mas aparecen. \n",
    "\n",
    "Si la palabra contiene el bigrama, \"w_out\" obtiene el valor de la palabra actual remplazando los dos tokens por el bigrama, de lo contrario \"w_out\" obtiene conserva el valor de la palabra de \n",
    "\n",
    "la instruccion:\n",
    "`v_out[w_out] = v_in[word]`\n",
    "nos asegura que la frecuencia de la *posible* nueva palabra se conserva.\n",
    "- pari: El par de tokens que mas se repiten  \n",
    "- v_in: El vocabulario actual de palabras.\n",
    "- return: El nuevo vocabulario, donde la ocurrencia del par de tokens 'pair' se remplazo por su union."
   ]
  },
  {
   "cell_type": "code",
   "execution_count": 176,
   "metadata": {},
   "outputs": [],
   "source": [
    "def merge_vocab(pair, v_in):\n",
    "    v_out = {}\n",
    "    bigram = re.escape(' '.join(pair))\n",
    "    p = re.compile(r'(?<!\\S)' + bigram + r'(?!\\S)')\n",
    "\n",
    "    for word in v_in:\n",
    "        w_out = p.sub(''.join(pair), word)\n",
    "        v_out[w_out] = v_in[word]\n",
    "    return v_out"
   ]
  },
  {
   "cell_type": "markdown",
   "metadata": {},
   "source": [
    "### get_tokens_from_vocab()\n",
    "___\n",
    "Es una función que produce dos objetos a partir de un vocabulario. Uno de los objetos contendra un diccionario que asocia cada símbolo individual en el vocabulario a la suma de las frecuencias de todas las palabras que contienen ese token. El otro objeto también es un diccionario pero este asocia acada palabra del vocabulario una lista de tokens individuales.\n",
    "\n",
    "como un diccionario predeterminado y luego recorre cada entrada en vocabulario. Para cada entrada, la función divide la palabra en tokens individuales y agrega la frecuencia de la palabra a la frecuencia total de cada token. Además, la función agrega una entrada al diccionario que asocia la palabra completa con su lista de tokens. Finalmente, la función devuelve ambos diccionarios."
   ]
  },
  {
   "cell_type": "code",
   "execution_count": 229,
   "metadata": {},
   "outputs": [],
   "source": [
    "def get_tokens_from_vocab(vocab):\n",
    "    # se crea un diccionario de frecuencias y de tokenizacion de tokens vacio\n",
    "    tokens_frequencies = collections.defaultdict(int)\n",
    "    vocab_tokenization = {}\n",
    "    # se recorre el vocabulario de palabras y frecuencias de palabras del corpus\n",
    "    for word, freq in vocab.items():\n",
    "        word_tokens = word.split()\n",
    "        for token in word_tokens:\n",
    "            tokens_frequencies[token] += freq\n",
    "        vocab_tokenization[''.join(word_tokens)] = word_tokens\n",
    "        # se devuelve el diccionario de frecuencias de tokens y el diccionario de tokenizacion de tokens\n",
    "    return tokens_frequencies, vocab_tokenization\n"
   ]
  },
  {
   "attachments": {},
   "cell_type": "markdown",
   "metadata": {},
   "source": [
    "### measure_token_length()\n",
    "___\n",
    "La función measure_token_lengt mide la longitud de un token de texto. Si el token termina en </w>, se devuelve\n",
    "la longitud de la palabra sin el sufijo </w> más 1. \n",
    "Si el token no termina en </w>, se devuelve la longitud del token\n",
    "tal como está. Esto significa que la función devuelve la longitud de la palabra real o la longitud de la palabra más el sufijo </w>.\n",
    "\n",
    "-token: Es un argumento de entrada para la función measure_token_length. Es una cadena de texto que\n",
    "representa una palabra o una secuencia de caracteres. \n",
    "\n",
    "La función mide su longitud y devuelve el resultado.\n",
    "-return len(token): Es una instrucción que devuelve la longitud de la cadena de texto token. La función len en\n",
    "python devuelve la cantidad de caracteres en una cadena de texto.\n",
    "En este caso, si token no termina en </w>, se devuelve su longitud usando return len(token). De lo contrario,\n",
    "se devuelve len(token[:-4]) + 1, lo que representa la longitud de token sin los últimos 4\n",
    "caracteres (que son </w>) más 1."
   ]
  },
  {
   "cell_type": "code",
   "execution_count": 17,
   "metadata": {},
   "outputs": [],
   "source": [
    "def measure_token_length(token):\n",
    "    if token[-4:] == '</w>':\n",
    "        return len(token[:-4]) + 1\n",
    "    else:\n",
    "        return len(token)"
   ]
  },
  {
   "cell_type": "code",
   "execution_count": 18,
   "metadata": {},
   "outputs": [],
   "source": [
    "### Funcion para tokenizar una palabra con un vocabulario de tokens ordenados por frecuencia y longitud de token ###\n",
    "def tokenize_word(string, sorted_tokens, unknown_token='</u>'):\n",
    "    \n",
    "    if string == '':\n",
    "        return []\n",
    "    \n",
    "    if sorted_tokens == []:\n",
    "        return [unknown_token]\n",
    "    string_tokens = []\n",
    "    # se recorre el vocabulario de tokens ordenados por frecuencia y longitud de token #\n",
    "    for i in range(len(sorted_tokens)):\n",
    "    \n",
    "        token = sorted_tokens[i]\n",
    "        \n",
    "        # se reemplaza el punto por [.] para que no sea interpretado como cualquier caracter #\n",
    "        token_reg = re.escape(token.replace('.', '[.]'))\n",
    "        \n",
    "        # se busca el token en la palabra y se obtienen las posiciones de inicio y fin de cada ocurrencia #\n",
    "        matched_positions = [(m.start(0), m.end(0)) for m in re.finditer(token_reg, string)]\n",
    "        \n",
    "        #si no se encuentra el token en la palabra se continua con el siguiente token #\n",
    "        if len(matched_positions) == 0:\n",
    "            continue\n",
    "            # si se encuentra el token en la palabra se obtienen las posiciones de inicio y fin de cada ocurrencia #\n",
    "        substring_end_positions = [matched_position[0] for matched_position in matched_positions]\n",
    "\n",
    "        # se recorre la palabra desde el inicio hasta la posicion de inicio de cada ocurrencia del token #\n",
    "        substring_start_position = 0\n",
    "        \n",
    "        for substring_end_position in substring_end_positions:\n",
    "            # se obtiene la subcadena desde la posicion de inicio de la palabra hasta la posicion de inicio de la ocurrencia del token #\n",
    "            substring = string[substring_start_position:substring_end_position]\n",
    "            string_tokens += tokenize_word(string=substring, sorted_tokens=sorted_tokens[i+1:], unknown_token=unknown_token)\n",
    "            string_tokens += [token]\n",
    "            #se actualiza la posicion de inicio de la palabra para continuar desde la posicion de fin de la ocurrencia del token #\n",
    "            substring_start_position = substring_end_position + len(token)\n",
    "        remaining_substring = string[substring_start_position:]\n",
    "        # se tokeniza la subcadena restante de la palabra #\n",
    "        string_tokens += tokenize_word(string=remaining_substring, sorted_tokens=sorted_tokens[i+1:], unknown_token=unknown_token)\n",
    "        break\n",
    "    # se devuelve la lista de tokens de la palabra #\n",
    "    return string_tokens"
   ]
  },
  {
   "cell_type": "markdown",
   "metadata": {},
   "source": [
    "## Implementacion usando el Quijote\n",
    "---\n"
   ]
  },
  {
   "cell_type": "markdown",
   "metadata": {},
   "source": [
    "Aqui implementamos el codigo de Byte-pair-encoding"
   ]
  },
  {
   "cell_type": "code",
   "execution_count": 228,
   "metadata": {},
   "outputs": [],
   "source": [
    "vocab = get_vocab('TextoEjemplo.txt')"
   ]
  },
  {
   "cell_type": "code",
   "execution_count": 231,
   "metadata": {},
   "outputs": [
    {
     "name": "stdout",
     "output_type": "stream",
     "text": [
      "==========\n",
      "Tokens Before BPE\n",
      "All tokens: dict_keys(['Y', 'o', ',', '</w>', 'J', 'u', 'a', 'n', 'G', 'l', 'd', 'e', 'A', 'r', 's', 'c', 'i', 'b', 'C', 'á', 'm', 'R', 'y', 't', 'ñ', 'q', 'j', 'f', 'h', 'v', 'p', 'é', 'E', 'g', 'M', 'S', 'í', '.'])\n",
      "Number of tokens: 38\n",
      "==========\n",
      "Iter: 0\n",
      "Best pair: ('o', '</w>')\n",
      "All tokens: dict_keys(['Y', 'o', ',', '</w>', 'J', 'u', 'a', 'n', 'G', 'l', 'o</w>', 'd', 'e', 'A', 'r', 's', 'c', 'i', 'b', 'C', 'á', 'm', 'R', 'y', 't', 'ñ', 'q', 'j', 'f', 'h', 'v', 'p', 'é', 'E', 'g', 'M', 'S', 'í', '.'])\n",
      "Number of tokens: 39\n",
      "==========\n",
      "Iter: 1\n",
      "Best pair: ('d', 'e')\n",
      "All tokens: dict_keys(['Y', 'o', ',', '</w>', 'J', 'u', 'a', 'n', 'G', 'l', 'o</w>', 'de', 'A', 'd', 'r', 'e', 's', 'c', 'i', 'b', 'C', 'á', 'm', 'R', 'y', 't', 'ñ', 'q', 'j', 'f', 'h', 'v', 'p', 'é', 'E', 'g', 'M', 'S', 'í', '.'])\n",
      "Number of tokens: 40\n",
      "==========\n",
      "Iter: 2\n",
      "Best pair: (',', '</w>')\n",
      "All tokens: dict_keys(['Y', 'o', ',</w>', 'J', 'u', 'a', 'n', '</w>', 'G', 'l', 'o</w>', 'de', 'A', 'd', 'r', 'e', 's', 'c', 'i', 'b', 'C', 'á', 'm', 'R', 'y', 't', 'ñ', 'q', 'j', 'f', 'h', 'v', 'p', 'é', 'E', 'g', 'M', 'S', 'í', '.'])\n",
      "Number of tokens: 40\n",
      "==========\n",
      "Iter: 3\n",
      "Best pair: ('e', 's')\n",
      "All tokens: dict_keys(['Y', 'o', ',</w>', 'J', 'u', 'a', 'n', '</w>', 'G', 'l', 'o</w>', 'de', 'A', 'd', 'r', 'es', 'c', 'i', 'b', 'C', 'á', 'm', 'R', 'e', 'y', 't', 's', 'ñ', 'q', 'j', 'f', 'h', 'v', 'p', 'é', 'E', 'g', 'M', 'S', 'í', '.'])\n",
      "Number of tokens: 41\n",
      "==========\n"
     ]
    },
    {
     "data": {
      "text/plain": [
       "\"\\n# Let's check how tokenization will be for a known word\\nword_given_known = 'mountains</w>'\\nword_given_unknown = 'Ilikeeatingapples!</w>'\\n\\nsorted_tokens_tuple = sorted(tokens_frequencies.items(), key=lambda item: (measure_token_length(item[0]), item[1]), reverse=True)\\nsorted_tokens = [token for (token, freq) in sorted_tokens_tuple]\\n\\nprint(sorted_tokens)\\n\\nword_given = word_given_known \\n\\nprint('Tokenizing word: {}...'.format(word_given))\\nif word_given in vocab_tokenization:\\n    print('Tokenization of the known word:')\\n    print(vocab_tokenization[word_given])\\n    print('Tokenization treating the known word as unknown:')\\n    print(tokenize_word(string=word_given, sorted_tokens=sorted_tokens, unknown_token='</u>'))\\nelse:\\n    print('Tokenizating of the unknown word:')\\n    print(tokenize_word(string=word_given, sorted_tokens=sorted_tokens, unknown_token='</u>'))\\n\\nword_given = word_given_unknown \\n\\nprint('Tokenizing word: {}...'.format(word_given))\\nif word_given in vocab_tokenization:\\n    print('Tokenization of the known word:')\\n    print(vocab_tokenization[word_given])\\n    print('Tokenization treating the known word as unknown:')\\n    print(tokenize_word(string=word_given, sorted_tokens=sorted_tokens, unknown_token='</u>'))\\nelse:\\n    print('Tokenizating of the unknown word:')\\n    print(tokenize_word(string=word_given, sorted_tokens=sorted_tokens, unknown_token='</u>'))\\n\""
      ]
     },
     "execution_count": 231,
     "metadata": {},
     "output_type": "execute_result"
    }
   ],
   "source": [
    "\n",
    "\n",
    "print('==========')\n",
    "print('Tokens Before BPE')\n",
    "tokens_frequencies, vocab_tokenization = get_tokens_from_vocab(vocab)\n",
    "print('All tokens: {}'.format(tokens_frequencies.keys()))\n",
    "print('Number of tokens: {}'.format(len(tokens_frequencies.keys())))\n",
    "print('==========')\n",
    "\n",
    "num_merges = 4\n",
    "for i in range(num_merges):\n",
    "    pairs = get_stats(vocab)\n",
    "    if not pairs:\n",
    "        break\n",
    "    best = max(pairs, key=pairs.get)\n",
    "    vocab = merge_vocab(best, vocab)\n",
    "    print('Iter: {}'.format(i))\n",
    "    print('Best pair: {}'.format(best))\n",
    "    tokens_frequencies, vocab_tokenization = get_tokens_from_vocab(vocab)\n",
    "    print('All tokens: {}'.format(tokens_frequencies.keys()))\n",
    "    print('Number of tokens: {}'.format(len(tokens_frequencies.keys())))\n",
    "    print('==========')\n",
    "'''\n",
    "# Let's check how tokenization will be for a known word\n",
    "word_given_known = 'mountains</w>'\n",
    "word_given_unknown = 'Ilikeeatingapples!</w>'\n",
    "\n",
    "sorted_tokens_tuple = sorted(tokens_frequencies.items(), key=lambda item: (measure_token_length(item[0]), item[1]), reverse=True)\n",
    "sorted_tokens = [token for (token, freq) in sorted_tokens_tuple]\n",
    "\n",
    "print(sorted_tokens)\n",
    "\n",
    "word_given = word_given_known \n",
    "\n",
    "print('Tokenizing word: {}...'.format(word_given))\n",
    "if word_given in vocab_tokenization:\n",
    "    print('Tokenization of the known word:')\n",
    "    print(vocab_tokenization[word_given])\n",
    "    print('Tokenization treating the known word as unknown:')\n",
    "    print(tokenize_word(string=word_given, sorted_tokens=sorted_tokens, unknown_token='</u>'))\n",
    "else:\n",
    "    print('Tokenizating of the unknown word:')\n",
    "    print(tokenize_word(string=word_given, sorted_tokens=sorted_tokens, unknown_token='</u>'))\n",
    "\n",
    "word_given = word_given_unknown \n",
    "\n",
    "print('Tokenizing word: {}...'.format(word_given))\n",
    "if word_given in vocab_tokenization:\n",
    "    print('Tokenization of the known word:')\n",
    "    print(vocab_tokenization[word_given])\n",
    "    print('Tokenization treating the known word as unknown:')\n",
    "    print(tokenize_word(string=word_given, sorted_tokens=sorted_tokens, unknown_token='</u>'))\n",
    "else:\n",
    "    print('Tokenizating of the unknown word:')\n",
    "    print(tokenize_word(string=word_given, sorted_tokens=sorted_tokens, unknown_token='</u>'))\n",
    "'''"
   ]
  },
  {
   "cell_type": "markdown",
   "metadata": {},
   "source": [
    "# Conclusiones\n",
    "___\n",
    "Me diverti mucho"
   ]
  }
 ],
 "metadata": {
  "kernelspec": {
   "display_name": "Python 3 (ipykernel)",
   "language": "python",
   "name": "python3"
  },
  "language_info": {
   "codemirror_mode": {
    "name": "ipython",
    "version": 3
   },
   "file_extension": ".py",
   "mimetype": "text/x-python",
   "name": "python",
   "nbconvert_exporter": "python",
   "pygments_lexer": "ipython3",
   "version": "3.11.1"
  },
  "vscode": {
   "interpreter": {
    "hash": "aee8b7b246df8f9039afb4144a1f6fd8d2ca17a180786b69acc140d282b71a49"
   }
  }
 },
 "nbformat": 4,
 "nbformat_minor": 2
}
