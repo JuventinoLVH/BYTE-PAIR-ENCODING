{
 "cells": [
  {
   "cell_type": "code",
   "execution_count": null,
   "metadata": {},
   "outputs": [],
   "source": [
    "#Ejemplo de celda de codigo..."
   ]
  },
  {
   "attachments": {},
   "cell_type": "markdown",
   "metadata": {},
   "source": [
    "Aqui va la tarea. \n",
    "\n",
    "Recuerden hacer todo en un entorno de anaconda(O miniconda).\n",
    "Si necesitan ayuda con anaconda les puedo ayudar :D\n",
    "\n",
    "Con anaconda se crea el -kernel- con el que se puede ejecutar la libreta. Con el entrorno seleccionado debes hacer:\n",
    "    (PLN_tarea_1)C:/dir/Byte-pair-encoder: pip install ipykernel\n",
    "    \n",
    "\n",
    "Y para exportar es (Con el entorno activado) : \n",
    "    (PLN_tarea_1)C:/dir/Byte-pair-encoder: conda env export > requirements.yml  "
   ]
  }
 ],
 "metadata": {
  "language_info": {
   "name": "python"
  },
  "orig_nbformat": 4
 },
 "nbformat": 4,
 "nbformat_minor": 2
}
